{
 "cells": [
  {
   "cell_type": "code",
   "execution_count": null,
   "id": "1f154eb4",
   "metadata": {
    "vscode": {
     "languageId": "plaintext"
    }
   },
   "outputs": [],
   "source": [
    "from src.model.preprocessing import load_and_resize\n",
    "from src.model.detection import detect_change\n",
    "from src.model.prediction import predict_construction_violation\n",
    "import matplotlib.pyplot as plt\n",
    "\n",
    "before = load_and_resize('../data/sample_satellite_data/sample_image_1.tif')\n",
    "after = load_and_resize('../data/sample_satellite_data/sample_image_1.tif')  # Replace with updated image\n",
    "\n",
    "mask = detect_change('../data/sample_satellite_data/sample_image_1.tif', '../data/sample_satellite_data/sample_image_1.tif')\n",
    "\n",
    "plt.imshow(mask, cmap='gray')\n",
    "plt.title('Change Mask')\n",
    "plt.show()\n",
    "\n",
    "preds = predict_construction_violation('../data/sample_satellite_data/sample_image_1.tif')\n",
    "print(preds)\n"
   ]
  }
 ],
 "metadata": {
  "language_info": {
   "name": "python"
  }
 },
 "nbformat": 4,
 "nbformat_minor": 5
}
